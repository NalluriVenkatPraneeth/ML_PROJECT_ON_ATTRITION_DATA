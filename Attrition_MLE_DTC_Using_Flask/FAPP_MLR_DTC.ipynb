{
 "cells": [
  {
   "cell_type": "markdown",
   "metadata": {},
   "source": [
    "----"
   ]
  },
  {
   "cell_type": "markdown",
   "metadata": {},
   "source": [
    "<h1 align=\"center\">Web Application For Attrition Analysis Using Flask</h1>"
   ]
  },
  {
   "cell_type": "markdown",
   "metadata": {},
   "source": [
    "----"
   ]
  },
  {
   "cell_type": "code",
   "execution_count": 76,
   "metadata": {
    "scrolled": false
   },
   "outputs": [
    {
     "name": "stdout",
     "output_type": "stream",
     "text": [
      " * Serving Flask app \"__main__\" (lazy loading)\n",
      " * Environment: production\n",
      "   WARNING: This is a development server. Do not use it in a production deployment.\n",
      "   Use a production WSGI server instead.\n",
      " * Debug mode: off\n"
     ]
    },
    {
     "name": "stderr",
     "output_type": "stream",
     "text": [
      " * Running on http://127.0.0.1:5000/ (Press CTRL+C to quit)\n"
     ]
    }
   ],
   "source": [
    "#Importing Required Libraries\n",
    "from flask import Flask,render_template,request\n",
    "import numpy as np\n",
    "import pickle\n",
    "\n",
    "#Initializing\n",
    "app = Flask(__name__)\n",
    "\n",
    "#Home page for the Application\n",
    "@app.route('/')\n",
    "@app.route('/home')\n",
    "def home():\n",
    "    return render_template(\"H.html\")\n",
    "\n",
    "#Url for Regression analysis\n",
    "@app.route('/R')\n",
    "def R():\n",
    "    return render_template(\"R.html\")\n",
    "\n",
    "#Url for Classification\n",
    "@app.route('/C')\n",
    "def C():\n",
    "    return render_template(\"C.html\")\n",
    "\n",
    "#To handle the FORM data and use those fields for MonthlyIncome prediction\n",
    "@app.route(\"/submit\",methods=[\"POST\",\"GET\"])\n",
    "def submit():\n",
    "    if request.method=='POST':\n",
    "        record=[1]\n",
    "        Fields = ['JL','TWH','DPT','YWCM','JR','AGE','DFH']\n",
    "        for i in Fields:\n",
    "            record.append(float(request.form[i]))\n",
    "        loaded_model = pickle.load(open(\"C://Users/nallu/Downloads/python IML/attrition/Linear_model.sav\", 'rb'))\n",
    "        prediction = loaded_model.predict(record)\n",
    "        return render_template(\"M.html\",pred=str(round(prediction[0],2)))\n",
    "    \n",
    "#To handle the FORM data and use those fields for Attrition prediction\n",
    "@app.route(\"/submit1\",methods=[\"POST\",\"GET\"])\n",
    "def submit1():\n",
    "    if request.method=='POST':\n",
    "        record1=[]\n",
    "        Fields1 = ['AGE','JL','JR','WLB','YAC','YSLP']\n",
    "        for i in Fields1:\n",
    "            record1.append(float(request.form[i]))\n",
    "        loaded_model1 = pickle.load(open(\"C://Users/nallu/Downloads/python IML/attrition/DT_model.sav\", 'rb'))\n",
    "        prediction1 = loaded_model1.predict(np.asarray(record1).reshape(1,-1))\n",
    "        return render_template(\"CH.html\",pred=str(np.where(prediction1[0]==1,\"Yes\",\"No\")))\n",
    "\n",
    "if __name__=='__main__':\n",
    "    app.run()"
   ]
  }
 ],
 "metadata": {
  "kernelspec": {
   "display_name": "Python 3",
   "language": "python",
   "name": "python3"
  },
  "language_info": {
   "codemirror_mode": {
    "name": "ipython",
    "version": 3
   },
   "file_extension": ".py",
   "mimetype": "text/x-python",
   "name": "python",
   "nbconvert_exporter": "python",
   "pygments_lexer": "ipython3",
   "version": "3.8.5"
  },
  "varInspector": {
   "cols": {
    "lenName": 16,
    "lenType": 16,
    "lenVar": 40
   },
   "kernels_config": {
    "python": {
     "delete_cmd_postfix": "",
     "delete_cmd_prefix": "del ",
     "library": "var_list.py",
     "varRefreshCmd": "print(var_dic_list())"
    },
    "r": {
     "delete_cmd_postfix": ") ",
     "delete_cmd_prefix": "rm(",
     "library": "var_list.r",
     "varRefreshCmd": "cat(var_dic_list()) "
    }
   },
   "types_to_exclude": [
    "module",
    "function",
    "builtin_function_or_method",
    "instance",
    "_Feature"
   ],
   "window_display": false
  }
 },
 "nbformat": 4,
 "nbformat_minor": 4
}
